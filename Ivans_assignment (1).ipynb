{
 "cells": [
  {
   "cell_type": "markdown",
   "id": "b2eb99aa-f71f-43f9-ac2d-29e984a63293",
   "metadata": {
    "tags": []
   },
   "source": [
    "# My Jupyter Notebook on IBM Watson Studio"
   ]
  },
  {
   "cell_type": "markdown",
   "id": "43bad12b-9305-4153-a2e2-9aa70191e878",
   "metadata": {},
   "source": [
    "**Ivan Castro**<br>\n",
    "Media and Public Relations"
   ]
  },
  {
   "cell_type": "markdown",
   "id": "33d8fe32-3874-4e72-b1e4-22627f242722",
   "metadata": {},
   "source": [
    "*I would like to broaden my scope of work using data science in media and communications.*"
   ]
  },
  {
   "cell_type": "markdown",
   "id": "47ce33b2-786f-48c0-a00f-5bf5e6e6ca16",
   "metadata": {},
   "source": [
    "### The code below is meant to do a simple multiplication of 3 and 4"
   ]
  },
  {
   "cell_type": "code",
   "execution_count": 1,
   "id": "671fc611-205c-4588-8f5b-30ffdbb590e3",
   "metadata": {},
   "outputs": [
    {
     "data": {
      "text/plain": [
       "12"
      ]
     },
     "execution_count": 1,
     "metadata": {},
     "output_type": "execute_result"
    }
   ],
   "source": [
    "3 * 4"
   ]
  },
  {
   "cell_type": "markdown",
   "id": "f7a0c8ae-a3b9-4576-ab53-b6bd81711fd5",
   "metadata": {},
   "source": [
    "***\n",
    "- bullet 1\n",
    "- bullet 2\n",
    "- bullet 3 <br>\n",
    "__[Click here for Google](http://www.google.com)__"
   ]
  },
  {
   "cell_type": "code",
   "execution_count": null,
   "id": "dbeab815-182d-4ca2-a5ec-574b2365a46e",
   "metadata": {},
   "outputs": [],
   "source": []
  }
 ],
 "metadata": {
  "kernelspec": {
   "display_name": "Python",
   "language": "python",
   "name": "conda-env-python-py"
  },
  "language_info": {
   "codemirror_mode": {
    "name": "ipython",
    "version": 3
   },
   "file_extension": ".py",
   "mimetype": "text/x-python",
   "name": "python",
   "nbconvert_exporter": "python",
   "pygments_lexer": "ipython3",
   "version": "3.7.12"
  }
 },
 "nbformat": 4,
 "nbformat_minor": 5
}
